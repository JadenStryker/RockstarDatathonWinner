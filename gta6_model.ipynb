{
  "nbformat": 4,
  "nbformat_minor": 0,
  "metadata": {
    "colab": {
      "name": "Trying.ipynb",
      "provenance": [],
      "collapsed_sections": []
    },
    "kernelspec": {
      "name": "python3",
      "display_name": "Python 3"
    },
    "language_info": {
      "name": "python"
    }
  },
  "cells": [
    {
      "cell_type": "code",
      "execution_count": null,
      "metadata": {
        "id": "GYjYjSZ_v9qS",
        "colab": {
          "base_uri": "https://localhost:8080/"
        },
        "outputId": "9b6d4b73-eaa7-4830-b3aa-2eb2a57d8e19"
      },
      "outputs": [
        {
          "output_type": "stream",
          "name": "stdout",
          "text": [
            "Collecting pandasql\n",
            "  Downloading pandasql-0.7.3.tar.gz (26 kB)\n",
            "Requirement already satisfied: numpy in /usr/local/lib/python3.7/dist-packages (from pandasql) (1.21.6)\n",
            "Requirement already satisfied: pandas in /usr/local/lib/python3.7/dist-packages (from pandasql) (1.3.5)\n",
            "Requirement already satisfied: sqlalchemy in /usr/local/lib/python3.7/dist-packages (from pandasql) (1.4.36)\n",
            "Requirement already satisfied: pytz>=2017.3 in /usr/local/lib/python3.7/dist-packages (from pandas->pandasql) (2022.1)\n",
            "Requirement already satisfied: python-dateutil>=2.7.3 in /usr/local/lib/python3.7/dist-packages (from pandas->pandasql) (2.8.2)\n",
            "Requirement already satisfied: six>=1.5 in /usr/local/lib/python3.7/dist-packages (from python-dateutil>=2.7.3->pandas->pandasql) (1.15.0)\n",
            "Requirement already satisfied: importlib-metadata in /usr/local/lib/python3.7/dist-packages (from sqlalchemy->pandasql) (4.11.3)\n",
            "Requirement already satisfied: greenlet!=0.4.17 in /usr/local/lib/python3.7/dist-packages (from sqlalchemy->pandasql) (1.1.2)\n",
            "Requirement already satisfied: typing-extensions>=3.6.4 in /usr/local/lib/python3.7/dist-packages (from importlib-metadata->sqlalchemy->pandasql) (4.2.0)\n",
            "Requirement already satisfied: zipp>=0.5 in /usr/local/lib/python3.7/dist-packages (from importlib-metadata->sqlalchemy->pandasql) (3.8.0)\n",
            "Building wheels for collected packages: pandasql\n",
            "  Building wheel for pandasql (setup.py) ... \u001b[?25l\u001b[?25hdone\n",
            "  Created wheel for pandasql: filename=pandasql-0.7.3-py3-none-any.whl size=26784 sha256=b394fa55210d995552fe1d1375a3b894efa46b2504a199a32474a776b4c60d4e\n",
            "  Stored in directory: /root/.cache/pip/wheels/5c/4b/ec/41f4e116c8053c3654e2c2a47c62b4fca34cc67ef7b55deb7f\n",
            "Successfully built pandasql\n",
            "Installing collected packages: pandasql\n",
            "Successfully installed pandasql-0.7.3\n"
          ]
        }
      ],
      "source": [
        "#installing necessary packages\n",
        "!pip install pandasql"
      ]
    },
    {
      "cell_type": "code",
      "source": [
        "#all the packages that we have used\n",
        "import pandas as pd\n",
        "import numpy as np\n",
        "import matplotlib.pyplot as plt\n",
        "import seaborn as sns\n",
        "import math\n",
        "from datetime import date\n",
        "from datetime import datetime\n",
        "from pandasql import sqldf\n"
      ],
      "metadata": {
        "id": "kOxF46ChArNn"
      },
      "execution_count": 69,
      "outputs": []
    },
    {
      "cell_type": "code",
      "source": [
        "# we load our data into pandas dataframes\n",
        "activity = pd.read_csv('activity_played.csv')\n",
        "stats = pd.read_csv('gen_player_stats.csv')\n",
        "items = pd.read_csv('item_spend.csv')"
      ],
      "metadata": {
        "id": "_Kudwyo1wtqF"
      },
      "execution_count": 107,
      "outputs": []
    },
    {
      "cell_type": "markdown",
      "source": [
        "Rahul's contributions (ocurrance intervals and date-time)"
      ],
      "metadata": {
        "id": "PNbeBF5ntRyv"
      }
    },
    {
      "cell_type": "code",
      "source": [
        "#CODE BLOCK TO GET FIRST OCCURANCE EACH PLAYER LOGGED IN\n",
        "\n",
        "stats = stats.sort_values(by='occur_date')\n",
        "#duplicate makes all repeats equal to true, so we flip the mask\n",
        "first_occur = ~stats.duplicated(subset=['account_id'], keep= 'first')\n",
        "first_occur_of_player = stats[first_occur]\n",
        "\n",
        "first_occur_of_player = first_occur_of_player.copy()\n",
        "first_occur_of_player['date'] = first_occur_of_player['occur_date'].astype('datetime64[ns]')"
      ],
      "metadata": {
        "id": "adIEOcTbw_lK"
      },
      "execution_count": 108,
      "outputs": []
    },
    {
      "cell_type": "code",
      "source": [
        "# number of day difference between start time and start of df\n",
        "#We want to know when each user started playing during this timeframe as to not penalize users who started at a later date.\n",
        "\n",
        "start_date = pd.Series('2020-09-01', index=range(len(first_occur_of_player)))\n",
        "start_date = start_date.astype('datetime64[ns]')\n",
        "test_series = pd.Series(first_occur_of_player['date'].values-start_date.values)"
      ],
      "metadata": {
        "id": "l1JS-dEHw_pm"
      },
      "execution_count": 109,
      "outputs": []
    },
    {
      "cell_type": "code",
      "source": [
        "#test series b is the proper time difference, added to first_occur_of_players\n",
        "max_days = pd.Timedelta('90 days')\n",
        "test_series_b = max_days-test_series\n",
        "first_occur_of_player['days_since_start'] = test_series_b.values\n"
      ],
      "metadata": {
        "id": "JUUj9tEfw_tX"
      },
      "execution_count": 110,
      "outputs": []
    },
    {
      "cell_type": "code",
      "source": [
        "#df containing account id, days since they started, total time played, time played per day since they started\n",
        "time_spent_per_day = first_occur_of_player[['account_id','days_since_start']]\n",
        "time_spent_per_day = time_spent_per_day.sort_values(by='account_id')\n",
        "\n",
        "player_playtime = stats.groupby('account_id').sum()['daily_playtime']\n",
        "time_spent_per_day = time_spent_per_day.assign(time_played=player_playtime.values)\n",
        "\n",
        "time_spent_per_day['days_since_start'] = time_spent_per_day['days_since_start'].dt.days\n",
        "time_spent_per_day['play_time_per_day'] = time_spent_per_day['time_played']/time_spent_per_day['days_since_start']\n",
        "\n",
        "time_spent_per_day = time_spent_per_day.set_index('account_id',drop=True)"
      ],
      "metadata": {
        "id": "yJnpOJ2sdEaS"
      },
      "execution_count": 111,
      "outputs": []
    },
    {
      "cell_type": "markdown",
      "source": [
        "Mateus' contributions (dummy variables and variable creation)"
      ],
      "metadata": {
        "id": "3fRwJlzYtVCp"
      }
    },
    {
      "cell_type": "code",
      "source": [
        "# Creating dummie columns for each categorial data present in the dataset.\n",
        "activity_dummed=pd.get_dummies(activity)\n",
        "#getting the sum of each category and grouping by each individual account_id. \n",
        "activity_grouped = activity_dummed.groupby(['account_id']).sum()\n",
        "activity_grouped_no_normalization = activity_grouped.copy()\n",
        "# for each column that contains a number other than 0 \n",
        "activity_grouped['activity_type_Biker'].where(activity_grouped['activity_type_Biker'] <=0, 1, inplace=True)\n",
        "activity_grouped['activity_type_Casino'].where(activity_grouped['activity_type_Casino'] <=0, 1, inplace=True)\n",
        "activity_grouped['activity_type_Executive'].where(activity_grouped['activity_type_Executive'] <=0, 1, inplace=True)\n",
        "activity_grouped['activity_type_Freeroam - Business Battles'].where(activity_grouped['activity_type_Freeroam - Business Battles'] <=0, 1, inplace=True)\n",
        "activity_grouped['activity_type_Gunrunner'].where(activity_grouped['activity_type_Gunrunner'] <=0, 1, inplace=True)\n",
        "activity_grouped['activity_type_Heist'].where(activity_grouped['activity_type_Heist'] <=0, 1, inplace=True)\n",
        "activity_grouped['activity_type_Nightclub Owner'].where(activity_grouped['activity_type_Nightclub Owner'] <=0, 1, inplace=True)\n",
        "activity_grouped['activity_type_Race'].where(activity_grouped['activity_type_Race'] <=0, 1, inplace=True)\n",
        "\n",
        "columns = ['activity_type_Biker','activity_type_Casino','activity_type_Executive','activity_type_Freeroam - Business Battles','activity_type_Gunrunner','activity_type_Heist','activity_type_Nightclub Owner','activity_type_Race']\n",
        "\n",
        "activity_grouped['diversity'] = activity_grouped[columns].sum(axis=1)\n",
        "activity_grouped['diversity'] = activity_grouped['diversity'] /8\n",
        "activity_grouped = activity_grouped[['diversity']]\n",
        "\n"
      ],
      "metadata": {
        "id": "ryDxjSYVm6rT"
      },
      "execution_count": 112,
      "outputs": []
    },
    {
      "cell_type": "code",
      "source": [
        "items_dummed=pd.get_dummies(items[['account_id','item_type']])\n",
        "\n",
        "items_grouped = items_dummed.groupby(['account_id']).sum()\n",
        "items_grouped_no_normalization = items_grouped.copy()\n",
        "\n",
        "items_grouped['item_type_BIKE'].where(items_grouped['item_type_BIKE'] <=0, 1, inplace=True)\n",
        "items_grouped['item_type_BOAT'].where(items_grouped['item_type_BOAT'] <=0, 1, inplace=True)\n",
        "items_grouped['item_type_CAR'].where(items_grouped['item_type_CAR'] <=0, 1, inplace=True)\n",
        "items_grouped['item_type_CYCLE'].where(items_grouped['item_type_CYCLE'] <=0, 1, inplace=True)\n",
        "items_grouped['item_type_HELICOPTER'].where(items_grouped['item_type_HELICOPTER'] <=0, 1, inplace=True)\n",
        "items_grouped['item_type_JET'].where(items_grouped['item_type_JET'] <=0, 1, inplace=True)\n",
        "items_grouped['item_type_OTHER'].where(items_grouped['item_type_OTHER'] <=0, 1, inplace=True)\n",
        "items_grouped['item_type_PLANE'].where(items_grouped['item_type_PLANE'] <=0, 1, inplace=True)\n",
        "items_grouped['item_type_PROPERTY'].where(items_grouped['item_type_PROPERTY'] <=0, 1, inplace=True)\n",
        "items_grouped['item_type_TANK'].where(items_grouped['item_type_TANK'] <=0, 1, inplace=True)\n",
        "items_grouped['item_type_TRUCK'].where(items_grouped['item_type_TRUCK'] <=0, 1, inplace=True)\n",
        "items_grouped['item_type_WEAPON'].where(items_grouped['item_type_WEAPON'] <=0, 1, inplace=True)\n",
        "\n",
        "columns = ['item_type_BIKE','item_type_BOAT','item_type_CAR','item_type_CYCLE','item_type_HELICOPTER','item_type_JET','item_type_OTHER','item_type_PLANE','item_type_PROPERTY','item_type_TANK','item_type_TRUCK','item_type_WEAPON']\n",
        "\n",
        "items_grouped['diversity'] = items_grouped[columns].sum(axis=1)\n",
        "items_grouped['diversity'] =items_grouped['diversity'] /12\n",
        "items_grouped =items_grouped['diversity']"
      ],
      "metadata": {
        "id": "Bb2-YAOpqZL4"
      },
      "execution_count": 113,
      "outputs": []
    },
    {
      "cell_type": "markdown",
      "source": [
        "Carlos' contributions (data analysis for slides)"
      ],
      "metadata": {
        "id": "oYNvWK-dtcOa"
      }
    },
    {
      "cell_type": "code",
      "source": [
        "#create a column with real dollar values by multiplying by current exchange rate with GTA V currency-dollars\n",
        "stats['pvc_balance_dollars'] = (stats['pvc_balance'] * 0.0000196006)"
      ],
      "metadata": {
        "id": "kQpcoemGtfle"
      },
      "execution_count": 77,
      "outputs": []
    },
    {
      "cell_type": "code",
      "source": [
        "#load packages to use sql commands to look through the dataset\n",
        "from pandasql import sqldf\n",
        "pysqldf = lambda q: sqldf(q, globals())\n",
        "\n",
        "data_for_console = pysqldf('''select platform_id, count(platform_id) as count\n",
        "from stats \n",
        "group by platform_id\n",
        "order by count desc''')\n",
        "\n",
        "data_for_console"
      ],
      "metadata": {
        "id": "-_fsB8oDtfte",
        "colab": {
          "base_uri": "https://localhost:8080/",
          "height": 143
        },
        "outputId": "e488a434-d695-4a83-96e5-12391744fe5c"
      },
      "execution_count": 78,
      "outputs": [
        {
          "output_type": "execute_result",
          "data": {
            "text/plain": [
              "  platform_id   count\n",
              "0        XBOX  141314\n",
              "1         PS4   66922\n",
              "2          PC   39748"
            ],
            "text/html": [
              "\n",
              "  <div id=\"df-2f2a208d-bcb0-4b0b-9a63-49aa56af9ed0\">\n",
              "    <div class=\"colab-df-container\">\n",
              "      <div>\n",
              "<style scoped>\n",
              "    .dataframe tbody tr th:only-of-type {\n",
              "        vertical-align: middle;\n",
              "    }\n",
              "\n",
              "    .dataframe tbody tr th {\n",
              "        vertical-align: top;\n",
              "    }\n",
              "\n",
              "    .dataframe thead th {\n",
              "        text-align: right;\n",
              "    }\n",
              "</style>\n",
              "<table border=\"1\" class=\"dataframe\">\n",
              "  <thead>\n",
              "    <tr style=\"text-align: right;\">\n",
              "      <th></th>\n",
              "      <th>platform_id</th>\n",
              "      <th>count</th>\n",
              "    </tr>\n",
              "  </thead>\n",
              "  <tbody>\n",
              "    <tr>\n",
              "      <th>0</th>\n",
              "      <td>XBOX</td>\n",
              "      <td>141314</td>\n",
              "    </tr>\n",
              "    <tr>\n",
              "      <th>1</th>\n",
              "      <td>PS4</td>\n",
              "      <td>66922</td>\n",
              "    </tr>\n",
              "    <tr>\n",
              "      <th>2</th>\n",
              "      <td>PC</td>\n",
              "      <td>39748</td>\n",
              "    </tr>\n",
              "  </tbody>\n",
              "</table>\n",
              "</div>\n",
              "      <button class=\"colab-df-convert\" onclick=\"convertToInteractive('df-2f2a208d-bcb0-4b0b-9a63-49aa56af9ed0')\"\n",
              "              title=\"Convert this dataframe to an interactive table.\"\n",
              "              style=\"display:none;\">\n",
              "        \n",
              "  <svg xmlns=\"http://www.w3.org/2000/svg\" height=\"24px\"viewBox=\"0 0 24 24\"\n",
              "       width=\"24px\">\n",
              "    <path d=\"M0 0h24v24H0V0z\" fill=\"none\"/>\n",
              "    <path d=\"M18.56 5.44l.94 2.06.94-2.06 2.06-.94-2.06-.94-.94-2.06-.94 2.06-2.06.94zm-11 1L8.5 8.5l.94-2.06 2.06-.94-2.06-.94L8.5 2.5l-.94 2.06-2.06.94zm10 10l.94 2.06.94-2.06 2.06-.94-2.06-.94-.94-2.06-.94 2.06-2.06.94z\"/><path d=\"M17.41 7.96l-1.37-1.37c-.4-.4-.92-.59-1.43-.59-.52 0-1.04.2-1.43.59L10.3 9.45l-7.72 7.72c-.78.78-.78 2.05 0 2.83L4 21.41c.39.39.9.59 1.41.59.51 0 1.02-.2 1.41-.59l7.78-7.78 2.81-2.81c.8-.78.8-2.07 0-2.86zM5.41 20L4 18.59l7.72-7.72 1.47 1.35L5.41 20z\"/>\n",
              "  </svg>\n",
              "      </button>\n",
              "      \n",
              "  <style>\n",
              "    .colab-df-container {\n",
              "      display:flex;\n",
              "      flex-wrap:wrap;\n",
              "      gap: 12px;\n",
              "    }\n",
              "\n",
              "    .colab-df-convert {\n",
              "      background-color: #E8F0FE;\n",
              "      border: none;\n",
              "      border-radius: 50%;\n",
              "      cursor: pointer;\n",
              "      display: none;\n",
              "      fill: #1967D2;\n",
              "      height: 32px;\n",
              "      padding: 0 0 0 0;\n",
              "      width: 32px;\n",
              "    }\n",
              "\n",
              "    .colab-df-convert:hover {\n",
              "      background-color: #E2EBFA;\n",
              "      box-shadow: 0px 1px 2px rgba(60, 64, 67, 0.3), 0px 1px 3px 1px rgba(60, 64, 67, 0.15);\n",
              "      fill: #174EA6;\n",
              "    }\n",
              "\n",
              "    [theme=dark] .colab-df-convert {\n",
              "      background-color: #3B4455;\n",
              "      fill: #D2E3FC;\n",
              "    }\n",
              "\n",
              "    [theme=dark] .colab-df-convert:hover {\n",
              "      background-color: #434B5C;\n",
              "      box-shadow: 0px 1px 3px 1px rgba(0, 0, 0, 0.15);\n",
              "      filter: drop-shadow(0px 1px 2px rgba(0, 0, 0, 0.3));\n",
              "      fill: #FFFFFF;\n",
              "    }\n",
              "  </style>\n",
              "\n",
              "      <script>\n",
              "        const buttonEl =\n",
              "          document.querySelector('#df-2f2a208d-bcb0-4b0b-9a63-49aa56af9ed0 button.colab-df-convert');\n",
              "        buttonEl.style.display =\n",
              "          google.colab.kernel.accessAllowed ? 'block' : 'none';\n",
              "\n",
              "        async function convertToInteractive(key) {\n",
              "          const element = document.querySelector('#df-2f2a208d-bcb0-4b0b-9a63-49aa56af9ed0');\n",
              "          const dataTable =\n",
              "            await google.colab.kernel.invokeFunction('convertToInteractive',\n",
              "                                                     [key], {});\n",
              "          if (!dataTable) return;\n",
              "\n",
              "          const docLinkHtml = 'Like what you see? Visit the ' +\n",
              "            '<a target=\"_blank\" href=https://colab.research.google.com/notebooks/data_table.ipynb>data table notebook</a>'\n",
              "            + ' to learn more about interactive tables.';\n",
              "          element.innerHTML = '';\n",
              "          dataTable['output_type'] = 'display_data';\n",
              "          await google.colab.output.renderOutput(dataTable, element);\n",
              "          const docLink = document.createElement('div');\n",
              "          docLink.innerHTML = docLinkHtml;\n",
              "          element.appendChild(docLink);\n",
              "        }\n",
              "      </script>\n",
              "    </div>\n",
              "  </div>\n",
              "  "
            ]
          },
          "metadata": {},
          "execution_count": 78
        }
      ]
    },
    {
      "cell_type": "code",
      "source": [
        "#find a pie chart of the percentage of users in each console\n",
        "y = np.array([141314, 66922, 39748])\n",
        "mylabels = [\"XBOX\", \"PS4\", \"PC\"]\n",
        "myexplode = [0.2, 0, 0]\n",
        "\n",
        "plt.pie(y, labels = mylabels, explode = myexplode, shadow = True, autopct='%1.2f%%', radius= 0.8)\n",
        "plt.show() "
      ],
      "metadata": {
        "id": "6llz7TYduwEm",
        "colab": {
          "base_uri": "https://localhost:8080/",
          "height": 248
        },
        "outputId": "6fa2328d-5d1d-4547-e24e-6e21bf672025"
      },
      "execution_count": 79,
      "outputs": [
        {
          "output_type": "display_data",
          "data": {
            "text/plain": [
              "<Figure size 432x288 with 1 Axes>"
            ],
            "image/png": "[encoded data removed]"
          },
          "metadata": {}
        }
      ]
    },
    {
      "cell_type": "code",
      "source": [
        "#total amount of real money spent by users of each console\n",
        "data_for_console2 = pysqldf('''select platform_id, count(platform_id) as amount_of_users, sum(pvc_balance_dollars) as total_amount_spent\n",
        "from stats \n",
        "group by platform_id\n",
        "order by total_amount_spent desc''')\n",
        "data_for_console2"
      ],
      "metadata": {
        "id": "AdlKYflTtfyw",
        "colab": {
          "base_uri": "https://localhost:8080/",
          "height": 143
        },
        "outputId": "5c303b84-b501-448a-9da3-6540afaf9461"
      },
      "execution_count": 80,
      "outputs": [
        {
          "output_type": "execute_result",
          "data": {
            "text/plain": [
              "  platform_id  amount_of_users  total_amount_spent\n",
              "0         PS4            66922        42367.721584\n",
              "1        XBOX           141314        35761.831574\n",
              "2          PC            39748         9291.335308"
            ],
            "text/html": [
              "\n",
              "  <div id=\"df-320d52f5-ef82-4f54-8915-08918d8e5c42\">\n",
              "    <div class=\"colab-df-container\">\n",
              "      <div>\n",
              "<style scoped>\n",
              "    .dataframe tbody tr th:only-of-type {\n",
              "        vertical-align: middle;\n",
              "    }\n",
              "\n",
              "    .dataframe tbody tr th {\n",
              "        vertical-align: top;\n",
              "    }\n",
              "\n",
              "    .dataframe thead th {\n",
              "        text-align: right;\n",
              "    }\n",
              "</style>\n",
              "<table border=\"1\" class=\"dataframe\">\n",
              "  <thead>\n",
              "    <tr style=\"text-align: right;\">\n",
              "      <th></th>\n",
              "      <th>platform_id</th>\n",
              "      <th>amount_of_users</th>\n",
              "      <th>total_amount_spent</th>\n",
              "    </tr>\n",
              "  </thead>\n",
              "  <tbody>\n",
              "    <tr>\n",
              "      <th>0</th>\n",
              "      <td>PS4</td>\n",
              "      <td>66922</td>\n",
              "      <td>42367.721584</td>\n",
              "    </tr>\n",
              "    <tr>\n",
              "      <th>1</th>\n",
              "      <td>XBOX</td>\n",
              "      <td>141314</td>\n",
              "      <td>35761.831574</td>\n",
              "    </tr>\n",
              "    <tr>\n",
              "      <th>2</th>\n",
              "      <td>PC</td>\n",
              "      <td>39748</td>\n",
              "      <td>9291.335308</td>\n",
              "    </tr>\n",
              "  </tbody>\n",
              "</table>\n",
              "</div>\n",
              "      <button class=\"colab-df-convert\" onclick=\"convertToInteractive('df-320d52f5-ef82-4f54-8915-08918d8e5c42')\"\n",
              "              title=\"Convert this dataframe to an interactive table.\"\n",
              "              style=\"display:none;\">\n",
              "        \n",
              "  <svg xmlns=\"http://www.w3.org/2000/svg\" height=\"24px\"viewBox=\"0 0 24 24\"\n",
              "       width=\"24px\">\n",
              "    <path d=\"M0 0h24v24H0V0z\" fill=\"none\"/>\n",
              "    <path d=\"M18.56 5.44l.94 2.06.94-2.06 2.06-.94-2.06-.94-.94-2.06-.94 2.06-2.06.94zm-11 1L8.5 8.5l.94-2.06 2.06-.94-2.06-.94L8.5 2.5l-.94 2.06-2.06.94zm10 10l.94 2.06.94-2.06 2.06-.94-2.06-.94-.94-2.06-.94 2.06-2.06.94z\"/><path d=\"M17.41 7.96l-1.37-1.37c-.4-.4-.92-.59-1.43-.59-.52 0-1.04.2-1.43.59L10.3 9.45l-7.72 7.72c-.78.78-.78 2.05 0 2.83L4 21.41c.39.39.9.59 1.41.59.51 0 1.02-.2 1.41-.59l7.78-7.78 2.81-2.81c.8-.78.8-2.07 0-2.86zM5.41 20L4 18.59l7.72-7.72 1.47 1.35L5.41 20z\"/>\n",
              "  </svg>\n",
              "      </button>\n",
              "      \n",
              "  <style>\n",
              "    .colab-df-container {\n",
              "      display:flex;\n",
              "      flex-wrap:wrap;\n",
              "      gap: 12px;\n",
              "    }\n",
              "\n",
              "    .colab-df-convert {\n",
              "      background-color: #E8F0FE;\n",
              "      border: none;\n",
              "      border-radius: 50%;\n",
              "      cursor: pointer;\n",
              "      display: none;\n",
              "      fill: #1967D2;\n",
              "      height: 32px;\n",
              "      padding: 0 0 0 0;\n",
              "      width: 32px;\n",
              "    }\n",
              "\n",
              "    .colab-df-convert:hover {\n",
              "      background-color: #E2EBFA;\n",
              "      box-shadow: 0px 1px 2px rgba(60, 64, 67, 0.3), 0px 1px 3px 1px rgba(60, 64, 67, 0.15);\n",
              "      fill: #174EA6;\n",
              "    }\n",
              "\n",
              "    [theme=dark] .colab-df-convert {\n",
              "      background-color: #3B4455;\n",
              "      fill: #D2E3FC;\n",
              "    }\n",
              "\n",
              "    [theme=dark] .colab-df-convert:hover {\n",
              "      background-color: #434B5C;\n",
              "      box-shadow: 0px 1px 3px 1px rgba(0, 0, 0, 0.15);\n",
              "      filter: drop-shadow(0px 1px 2px rgba(0, 0, 0, 0.3));\n",
              "      fill: #FFFFFF;\n",
              "    }\n",
              "  </style>\n",
              "\n",
              "      <script>\n",
              "        const buttonEl =\n",
              "          document.querySelector('#df-320d52f5-ef82-4f54-8915-08918d8e5c42 button.colab-df-convert');\n",
              "        buttonEl.style.display =\n",
              "          google.colab.kernel.accessAllowed ? 'block' : 'none';\n",
              "\n",
              "        async function convertToInteractive(key) {\n",
              "          const element = document.querySelector('#df-320d52f5-ef82-4f54-8915-08918d8e5c42');\n",
              "          const dataTable =\n",
              "            await google.colab.kernel.invokeFunction('convertToInteractive',\n",
              "                                                     [key], {});\n",
              "          if (!dataTable) return;\n",
              "\n",
              "          const docLinkHtml = 'Like what you see? Visit the ' +\n",
              "            '<a target=\"_blank\" href=https://colab.research.google.com/notebooks/data_table.ipynb>data table notebook</a>'\n",
              "            + ' to learn more about interactive tables.';\n",
              "          element.innerHTML = '';\n",
              "          dataTable['output_type'] = 'display_data';\n",
              "          await google.colab.output.renderOutput(dataTable, element);\n",
              "          const docLink = document.createElement('div');\n",
              "          docLink.innerHTML = docLinkHtml;\n",
              "          element.appendChild(docLink);\n",
              "        }\n",
              "      </script>\n",
              "    </div>\n",
              "  </div>\n",
              "  "
            ]
          },
          "metadata": {},
          "execution_count": 80
        }
      ]
    },
    {
      "cell_type": "code",
      "source": [
        "items['occur_date'] = pd.to_datetime(items['occur_date'])\n",
        "stats['occur_date'] = pd.to_datetime(stats['occur_date'])"
      ],
      "metadata": {
        "id": "raINIJhXtf1O"
      },
      "execution_count": 81,
      "outputs": []
    },
    {
      "cell_type": "code",
      "source": [
        "#total spending by week\n",
        "items.resample('W', on='occur_date').money_spent.sum()"
      ],
      "metadata": {
        "id": "E9uz5V_0tf4T",
        "colab": {
          "base_uri": "https://localhost:8080/"
        },
        "outputId": "b6a5239a-3968-4f38-90c2-8ece8fac274b"
      },
      "execution_count": 82,
      "outputs": [
        {
          "output_type": "execute_result",
          "data": {
            "text/plain": [
              "occur_date\n",
              "2020-09-06    2.082469e+09\n",
              "2020-09-13    2.404106e+09\n",
              "2020-09-20    2.292415e+09\n",
              "2020-09-27    2.125884e+09\n",
              "2020-10-04    2.218644e+09\n",
              "2020-10-11    2.570580e+09\n",
              "2020-10-18    2.445121e+09\n",
              "2020-10-25    2.179266e+09\n",
              "2020-11-01    2.343618e+09\n",
              "2020-11-08    2.791468e+09\n",
              "2020-11-15    2.612376e+09\n",
              "2020-11-22    2.877836e+09\n",
              "2020-11-29    3.444001e+09\n",
              "2020-12-06    3.183812e+08\n",
              "Freq: W-SUN, Name: money_spent, dtype: float64"
            ]
          },
          "metadata": {},
          "execution_count": 82
        }
      ]
    },
    {
      "cell_type": "code",
      "source": [
        "#total amount spent by user\n",
        "print(pysqldf('''select account_id, sum(money_spent) as sum_by_id\n",
        "from items \n",
        "group by account_id'''))"
      ],
      "metadata": {
        "id": "eLqtcET6tf60",
        "colab": {
          "base_uri": "https://localhost:8080/"
        },
        "outputId": "091b81aa-3b68-4b0b-bc2d-8588373d9402"
      },
      "execution_count": 83,
      "outputs": [
        {
          "output_type": "stream",
          "name": "stdout",
          "text": [
            "      account_id     sum_by_id\n",
            "0              0  1.045527e+06\n",
            "1              1  3.484761e+05\n",
            "2              2  1.837875e+06\n",
            "3              3  3.129912e+06\n",
            "4              4  6.687334e+05\n",
            "...          ...           ...\n",
            "8985        9522  7.908033e+05\n",
            "8986        9523  5.521361e+05\n",
            "8987        9524  2.042963e+06\n",
            "8988        9525  5.571229e+05\n",
            "8989        9526  0.000000e+00\n",
            "\n",
            "[8990 rows x 2 columns]\n"
          ]
        }
      ]
    },
    {
      "cell_type": "code",
      "source": [
        "#in which items are users spending most of their money\n",
        "#NONE IS STROMBERGSSSS, that's cool\n",
        "items = pysqldf('''select item_type, sum(money_spent) as Amount_spent\n",
        "from items \n",
        "group by item_type\n",
        "order by Amount_spent desc\n",
        "limit 10''')\n",
        "\n",
        "items[\"item_type\"] = items[\"item_type\"].astype(\"|S\")"
      ],
      "metadata": {
        "id": "FVtxv3ZWtf9j"
      },
      "execution_count": 84,
      "outputs": []
    },
    {
      "cell_type": "code",
      "source": [
        "#create a bar char of these things\n",
        "fig = plt.figure(figsize = (10, 5))\n",
        " \n",
        "# creating the bar plot\n",
        "plt.bar(items['item_type'], items['Amount_spent'], color ='green',\n",
        "        width = 0.4)\n",
        " \n",
        "plt.xlabel(\"Type of items\")\n",
        "plt.ylabel(\"Amount of money spent\")\n",
        "plt.title(\"In which assests are users putting their money?\")\n",
        "plt.show()"
      ],
      "metadata": {
        "id": "ClCDp1PEv32z",
        "colab": {
          "base_uri": "https://localhost:8080/",
          "height": 350
        },
        "outputId": "5bbaf860-cf59-42c1-aee7-deffddc9ff53"
      },
      "execution_count": 85,
      "outputs": [
        {
          "output_type": "display_data",
          "data": {
            "text/plain": [
              "<Figure size 720x360 with 1 Axes>"
            ],
            "image/png": "[encoded data removed]"
          },
          "metadata": {
            "needs_background": "light"
          }
        }
      ]
    },
    {
      "cell_type": "code",
      "source": [
        "#top ten of items bought by volume\n",
        "specific_items = pysqldf('''select item_type as item_type, item as specific_item, sum(money_spent) as Amount_spent\n",
        "from items \n",
        "group by specific_item\n",
        "order by Amount_spent desc\n",
        "limit 10''')"
      ],
      "metadata": {
        "id": "hVUTIYmcv35T",
        "colab": {
          "base_uri": "https://localhost:8080/",
          "height": 836
        },
        "outputId": "86ae0247-d527-4cfb-9a2d-ed1c665f2fa0"
      },
      "execution_count": 86,
      "outputs": [
        {
          "output_type": "stream",
          "name": "stderr",
          "text": [
            "ERROR:root:An unexpected error occurred while tokenizing input\n",
            "The following traceback may be corrupted or invalid\n",
            "The error message is: ('EOF in multi-line string', (1, 8))\n",
            "\n"
          ]
        },
        {
          "output_type": "error",
          "ename": "PandaSQLException",
          "evalue": "ignored",
          "traceback": [
            "\u001b[0;31m---------------------------------------------------------------------------\u001b[0m",
            "\u001b[0;31mOperationalError\u001b[0m                          Traceback (most recent call last)",
            "\u001b[0;32m/usr/local/lib/python3.7/dist-packages/sqlalchemy/engine/base.py\u001b[0m in \u001b[0;36m_execute_context\u001b[0;34m(self, dialect, constructor, statement, parameters, execution_options, *args, **kw)\u001b[0m\n\u001b[1;32m   1819\u001b[0m                     self.dialect.do_execute(\n\u001b[0;32m-> 1820\u001b[0;31m                         \u001b[0mcursor\u001b[0m\u001b[0;34m,\u001b[0m \u001b[0mstatement\u001b[0m\u001b[0;34m,\u001b[0m \u001b[0mparameters\u001b[0m\u001b[0;34m,\u001b[0m \u001b[0mcontext\u001b[0m\u001b[0;34m\u001b[0m\u001b[0;34m\u001b[0m\u001b[0m\n\u001b[0m\u001b[1;32m   1821\u001b[0m                     )\n",
            "\u001b[0;32m/usr/local/lib/python3.7/dist-packages/sqlalchemy/engine/default.py\u001b[0m in \u001b[0;36mdo_execute\u001b[0;34m(self, cursor, statement, parameters, context)\u001b[0m\n\u001b[1;32m    731\u001b[0m     \u001b[0;32mdef\u001b[0m \u001b[0mdo_execute\u001b[0m\u001b[0;34m(\u001b[0m\u001b[0mself\u001b[0m\u001b[0;34m,\u001b[0m \u001b[0mcursor\u001b[0m\u001b[0;34m,\u001b[0m \u001b[0mstatement\u001b[0m\u001b[0;34m,\u001b[0m \u001b[0mparameters\u001b[0m\u001b[0;34m,\u001b[0m \u001b[0mcontext\u001b[0m\u001b[0;34m=\u001b[0m\u001b[0;32mNone\u001b[0m\u001b[0;34m)\u001b[0m\u001b[0;34m:\u001b[0m\u001b[0;34m\u001b[0m\u001b[0;34m\u001b[0m\u001b[0m\n\u001b[0;32m--> 732\u001b[0;31m         \u001b[0mcursor\u001b[0m\u001b[0;34m.\u001b[0m\u001b[0mexecute\u001b[0m\u001b[0;34m(\u001b[0m\u001b[0mstatement\u001b[0m\u001b[0;34m,\u001b[0m \u001b[0mparameters\u001b[0m\u001b[0;34m)\u001b[0m\u001b[0;34m\u001b[0m\u001b[0;34m\u001b[0m\u001b[0m\n\u001b[0m\u001b[1;32m    733\u001b[0m \u001b[0;34m\u001b[0m\u001b[0m\n",
            "\u001b[0;31mOperationalError\u001b[0m: no such column: item",
            "\nThe above exception was the direct cause of the following exception:\n",
            "\u001b[0;31mOperationalError\u001b[0m                          Traceback (most recent call last)",
            "\u001b[0;32m/usr/local/lib/python3.7/dist-packages/pandasql/sqldf.py\u001b[0m in \u001b[0;36m__call__\u001b[0;34m(self, query, env)\u001b[0m\n\u001b[1;32m     60\u001b[0m             \u001b[0;32mtry\u001b[0m\u001b[0;34m:\u001b[0m\u001b[0;34m\u001b[0m\u001b[0;34m\u001b[0m\u001b[0m\n\u001b[0;32m---> 61\u001b[0;31m                 \u001b[0mresult\u001b[0m \u001b[0;34m=\u001b[0m \u001b[0mread_sql\u001b[0m\u001b[0;34m(\u001b[0m\u001b[0mquery\u001b[0m\u001b[0;34m,\u001b[0m \u001b[0mconn\u001b[0m\u001b[0;34m)\u001b[0m\u001b[0;34m\u001b[0m\u001b[0;34m\u001b[0m\u001b[0m\n\u001b[0m\u001b[1;32m     62\u001b[0m             \u001b[0;32mexcept\u001b[0m \u001b[0mDatabaseError\u001b[0m \u001b[0;32mas\u001b[0m \u001b[0mex\u001b[0m\u001b[0;34m:\u001b[0m\u001b[0;34m\u001b[0m\u001b[0;34m\u001b[0m\u001b[0m\n",
            "\u001b[0;32m/usr/local/lib/python3.7/dist-packages/pandas/io/sql.py\u001b[0m in \u001b[0;36mread_sql\u001b[0;34m(sql, con, index_col, coerce_float, params, parse_dates, columns, chunksize)\u001b[0m\n\u001b[1;32m    633\u001b[0m             \u001b[0mparse_dates\u001b[0m\u001b[0;34m=\u001b[0m\u001b[0mparse_dates\u001b[0m\u001b[0;34m,\u001b[0m\u001b[0;34m\u001b[0m\u001b[0;34m\u001b[0m\u001b[0m\n\u001b[0;32m--> 634\u001b[0;31m             \u001b[0mchunksize\u001b[0m\u001b[0;34m=\u001b[0m\u001b[0mchunksize\u001b[0m\u001b[0;34m,\u001b[0m\u001b[0;34m\u001b[0m\u001b[0;34m\u001b[0m\u001b[0m\n\u001b[0m\u001b[1;32m    635\u001b[0m         )\n",
            "\u001b[0;32m/usr/local/lib/python3.7/dist-packages/pandas/io/sql.py\u001b[0m in \u001b[0;36mread_query\u001b[0;34m(self, sql, index_col, coerce_float, parse_dates, params, chunksize, dtype)\u001b[0m\n\u001b[1;32m   1578\u001b[0m \u001b[0;34m\u001b[0m\u001b[0m\n\u001b[0;32m-> 1579\u001b[0;31m         \u001b[0mresult\u001b[0m \u001b[0;34m=\u001b[0m \u001b[0mself\u001b[0m\u001b[0;34m.\u001b[0m\u001b[0mexecute\u001b[0m\u001b[0;34m(\u001b[0m\u001b[0;34m*\u001b[0m\u001b[0margs\u001b[0m\u001b[0;34m)\u001b[0m\u001b[0;34m\u001b[0m\u001b[0;34m\u001b[0m\u001b[0m\n\u001b[0m\u001b[1;32m   1580\u001b[0m         \u001b[0mcolumns\u001b[0m \u001b[0;34m=\u001b[0m \u001b[0mresult\u001b[0m\u001b[0;34m.\u001b[0m\u001b[0mkeys\u001b[0m\u001b[0;34m(\u001b[0m\u001b[0;34m)\u001b[0m\u001b[0;34m\u001b[0m\u001b[0;34m\u001b[0m\u001b[0m\n",
            "\u001b[0;32m/usr/local/lib/python3.7/dist-packages/pandas/io/sql.py\u001b[0m in \u001b[0;36mexecute\u001b[0;34m(self, *args, **kwargs)\u001b[0m\n\u001b[1;32m   1423\u001b[0m         \u001b[0;34m\"\"\"Simple passthrough to SQLAlchemy connectable\"\"\"\u001b[0m\u001b[0;34m\u001b[0m\u001b[0;34m\u001b[0m\u001b[0m\n\u001b[0;32m-> 1424\u001b[0;31m         \u001b[0;32mreturn\u001b[0m \u001b[0mself\u001b[0m\u001b[0;34m.\u001b[0m\u001b[0mconnectable\u001b[0m\u001b[0;34m.\u001b[0m\u001b[0mexecution_options\u001b[0m\u001b[0;34m(\u001b[0m\u001b[0;34m)\u001b[0m\u001b[0;34m.\u001b[0m\u001b[0mexecute\u001b[0m\u001b[0;34m(\u001b[0m\u001b[0;34m*\u001b[0m\u001b[0margs\u001b[0m\u001b[0;34m,\u001b[0m \u001b[0;34m**\u001b[0m\u001b[0mkwargs\u001b[0m\u001b[0;34m)\u001b[0m\u001b[0;34m\u001b[0m\u001b[0;34m\u001b[0m\u001b[0m\n\u001b[0m\u001b[1;32m   1425\u001b[0m \u001b[0;34m\u001b[0m\u001b[0m\n",
            "\u001b[0;32m/usr/local/lib/python3.7/dist-packages/sqlalchemy/engine/base.py\u001b[0m in \u001b[0;36mexecute\u001b[0;34m(self, statement, *multiparams, **params)\u001b[0m\n\u001b[1;32m   1295\u001b[0m                 \u001b[0m_EMPTY_EXECUTION_OPTS\u001b[0m\u001b[0;34m,\u001b[0m\u001b[0;34m\u001b[0m\u001b[0;34m\u001b[0m\u001b[0m\n\u001b[0;32m-> 1296\u001b[0;31m                 \u001b[0mfuture\u001b[0m\u001b[0;34m=\u001b[0m\u001b[0;32mFalse\u001b[0m\u001b[0;34m,\u001b[0m\u001b[0;34m\u001b[0m\u001b[0;34m\u001b[0m\u001b[0m\n\u001b[0m\u001b[1;32m   1297\u001b[0m             )\n",
            "\u001b[0;32m/usr/local/lib/python3.7/dist-packages/sqlalchemy/engine/base.py\u001b[0m in \u001b[0;36m_exec_driver_sql\u001b[0;34m(self, statement, multiparams, params, execution_options, future)\u001b[0m\n\u001b[1;32m   1601\u001b[0m             \u001b[0mstatement\u001b[0m\u001b[0;34m,\u001b[0m\u001b[0;34m\u001b[0m\u001b[0;34m\u001b[0m\u001b[0m\n\u001b[0;32m-> 1602\u001b[0;31m             \u001b[0mdistilled_parameters\u001b[0m\u001b[0;34m,\u001b[0m\u001b[0;34m\u001b[0m\u001b[0;34m\u001b[0m\u001b[0m\n\u001b[0m\u001b[1;32m   1603\u001b[0m         )\n",
            "\u001b[0;32m/usr/local/lib/python3.7/dist-packages/sqlalchemy/engine/base.py\u001b[0m in \u001b[0;36m_execute_context\u001b[0;34m(self, dialect, constructor, statement, parameters, execution_options, *args, **kw)\u001b[0m\n\u001b[1;32m   1862\u001b[0m             self._handle_dbapi_exception(\n\u001b[0;32m-> 1863\u001b[0;31m                 \u001b[0me\u001b[0m\u001b[0;34m,\u001b[0m \u001b[0mstatement\u001b[0m\u001b[0;34m,\u001b[0m \u001b[0mparameters\u001b[0m\u001b[0;34m,\u001b[0m \u001b[0mcursor\u001b[0m\u001b[0;34m,\u001b[0m \u001b[0mcontext\u001b[0m\u001b[0;34m\u001b[0m\u001b[0;34m\u001b[0m\u001b[0m\n\u001b[0m\u001b[1;32m   1864\u001b[0m             )\n",
            "\u001b[0;32m/usr/local/lib/python3.7/dist-packages/sqlalchemy/engine/base.py\u001b[0m in \u001b[0;36m_handle_dbapi_exception\u001b[0;34m(self, e, statement, parameters, cursor, context)\u001b[0m\n\u001b[1;32m   2043\u001b[0m                 util.raise_(\n\u001b[0;32m-> 2044\u001b[0;31m                     \u001b[0msqlalchemy_exception\u001b[0m\u001b[0;34m,\u001b[0m \u001b[0mwith_traceback\u001b[0m\u001b[0;34m=\u001b[0m\u001b[0mexc_info\u001b[0m\u001b[0;34m[\u001b[0m\u001b[0;36m2\u001b[0m\u001b[0;34m]\u001b[0m\u001b[0;34m,\u001b[0m \u001b[0mfrom_\u001b[0m\u001b[0;34m=\u001b[0m\u001b[0me\u001b[0m\u001b[0;34m\u001b[0m\u001b[0;34m\u001b[0m\u001b[0m\n\u001b[0m\u001b[1;32m   2045\u001b[0m                 )\n",
            "\u001b[0;32m/usr/local/lib/python3.7/dist-packages/sqlalchemy/util/compat.py\u001b[0m in \u001b[0;36mraise_\u001b[0;34m(***failed resolving arguments***)\u001b[0m\n\u001b[1;32m    206\u001b[0m         \u001b[0;32mtry\u001b[0m\u001b[0;34m:\u001b[0m\u001b[0;34m\u001b[0m\u001b[0;34m\u001b[0m\u001b[0m\n\u001b[0;32m--> 207\u001b[0;31m             \u001b[0;32mraise\u001b[0m \u001b[0mexception\u001b[0m\u001b[0;34m\u001b[0m\u001b[0;34m\u001b[0m\u001b[0m\n\u001b[0m\u001b[1;32m    208\u001b[0m         \u001b[0;32mfinally\u001b[0m\u001b[0;34m:\u001b[0m\u001b[0;34m\u001b[0m\u001b[0;34m\u001b[0m\u001b[0m\n",
            "\u001b[0;32m/usr/local/lib/python3.7/dist-packages/sqlalchemy/engine/base.py\u001b[0m in \u001b[0;36m_execute_context\u001b[0;34m(self, dialect, constructor, statement, parameters, execution_options, *args, **kw)\u001b[0m\n\u001b[1;32m   1819\u001b[0m                     self.dialect.do_execute(\n\u001b[0;32m-> 1820\u001b[0;31m                         \u001b[0mcursor\u001b[0m\u001b[0;34m,\u001b[0m \u001b[0mstatement\u001b[0m\u001b[0;34m,\u001b[0m \u001b[0mparameters\u001b[0m\u001b[0;34m,\u001b[0m \u001b[0mcontext\u001b[0m\u001b[0;34m\u001b[0m\u001b[0;34m\u001b[0m\u001b[0m\n\u001b[0m\u001b[1;32m   1821\u001b[0m                     )\n",
            "\u001b[0;32m/usr/local/lib/python3.7/dist-packages/sqlalchemy/engine/default.py\u001b[0m in \u001b[0;36mdo_execute\u001b[0;34m(self, cursor, statement, parameters, context)\u001b[0m\n\u001b[1;32m    731\u001b[0m     \u001b[0;32mdef\u001b[0m \u001b[0mdo_execute\u001b[0m\u001b[0;34m(\u001b[0m\u001b[0mself\u001b[0m\u001b[0;34m,\u001b[0m \u001b[0mcursor\u001b[0m\u001b[0;34m,\u001b[0m \u001b[0mstatement\u001b[0m\u001b[0;34m,\u001b[0m \u001b[0mparameters\u001b[0m\u001b[0;34m,\u001b[0m \u001b[0mcontext\u001b[0m\u001b[0;34m=\u001b[0m\u001b[0;32mNone\u001b[0m\u001b[0;34m)\u001b[0m\u001b[0;34m:\u001b[0m\u001b[0;34m\u001b[0m\u001b[0;34m\u001b[0m\u001b[0m\n\u001b[0;32m--> 732\u001b[0;31m         \u001b[0mcursor\u001b[0m\u001b[0;34m.\u001b[0m\u001b[0mexecute\u001b[0m\u001b[0;34m(\u001b[0m\u001b[0mstatement\u001b[0m\u001b[0;34m,\u001b[0m \u001b[0mparameters\u001b[0m\u001b[0;34m)\u001b[0m\u001b[0;34m\u001b[0m\u001b[0;34m\u001b[0m\u001b[0m\n\u001b[0m\u001b[1;32m    733\u001b[0m \u001b[0;34m\u001b[0m\u001b[0m\n",
            "\u001b[0;31mOperationalError\u001b[0m: (sqlite3.OperationalError) no such column: item\n[SQL: select item_type as item_type, item as specific_item, sum(money_spent) as Amount_spent\nfrom items \ngroup by specific_item\norder by Amount_spent desc\nlimit 10]\n(Background on this error at: https://sqlalche.me/e/14/e3q8)",
            "\nDuring handling of the above exception, another exception occurred:\n",
            "\u001b[0;31mPandaSQLException\u001b[0m                         Traceback (most recent call last)",
            "\u001b[0;32m<ipython-input-86-02264b7b333c>\u001b[0m in \u001b[0;36m<module>\u001b[0;34m()\u001b[0m\n\u001b[1;32m      4\u001b[0m \u001b[0mgroup\u001b[0m \u001b[0mby\u001b[0m \u001b[0mspecific_item\u001b[0m\u001b[0;34m\u001b[0m\u001b[0;34m\u001b[0m\u001b[0m\n\u001b[1;32m      5\u001b[0m \u001b[0morder\u001b[0m \u001b[0mby\u001b[0m \u001b[0mAmount_spent\u001b[0m \u001b[0mdesc\u001b[0m\u001b[0;34m\u001b[0m\u001b[0;34m\u001b[0m\u001b[0m\n\u001b[0;32m----> 6\u001b[0;31m limit 10''')\n\u001b[0m",
            "\u001b[0;32m<ipython-input-78-bddb487c76a2>\u001b[0m in \u001b[0;36m<lambda>\u001b[0;34m(q)\u001b[0m\n\u001b[1;32m      1\u001b[0m \u001b[0;31m#load packages to use sql commands to look through the dataset\u001b[0m\u001b[0;34m\u001b[0m\u001b[0;34m\u001b[0m\u001b[0;34m\u001b[0m\u001b[0m\n\u001b[1;32m      2\u001b[0m \u001b[0;32mfrom\u001b[0m \u001b[0mpandasql\u001b[0m \u001b[0;32mimport\u001b[0m \u001b[0msqldf\u001b[0m\u001b[0;34m\u001b[0m\u001b[0;34m\u001b[0m\u001b[0m\n\u001b[0;32m----> 3\u001b[0;31m \u001b[0mpysqldf\u001b[0m \u001b[0;34m=\u001b[0m \u001b[0;32mlambda\u001b[0m \u001b[0mq\u001b[0m\u001b[0;34m:\u001b[0m \u001b[0msqldf\u001b[0m\u001b[0;34m(\u001b[0m\u001b[0mq\u001b[0m\u001b[0;34m,\u001b[0m \u001b[0mglobals\u001b[0m\u001b[0;34m(\u001b[0m\u001b[0;34m)\u001b[0m\u001b[0;34m)\u001b[0m\u001b[0;34m\u001b[0m\u001b[0;34m\u001b[0m\u001b[0m\n\u001b[0m\u001b[1;32m      4\u001b[0m \u001b[0;34m\u001b[0m\u001b[0m\n\u001b[1;32m      5\u001b[0m data_for_console = pysqldf('''select platform_id, count(platform_id) as count\n",
            "\u001b[0;32m/usr/local/lib/python3.7/dist-packages/pandasql/sqldf.py\u001b[0m in \u001b[0;36msqldf\u001b[0;34m(query, env, db_uri)\u001b[0m\n\u001b[1;32m    154\u001b[0m     \u001b[0;34m>>\u001b[0m\u001b[0;34m>\u001b[0m \u001b[0msqldf\u001b[0m\u001b[0;34m(\u001b[0m\u001b[0;34m\"select avg(x) from df;\"\u001b[0m\u001b[0;34m,\u001b[0m \u001b[0mlocals\u001b[0m\u001b[0;34m(\u001b[0m\u001b[0;34m)\u001b[0m\u001b[0;34m)\u001b[0m\u001b[0;34m\u001b[0m\u001b[0;34m\u001b[0m\u001b[0m\n\u001b[1;32m    155\u001b[0m     \"\"\"\n\u001b[0;32m--> 156\u001b[0;31m     \u001b[0;32mreturn\u001b[0m \u001b[0mPandaSQL\u001b[0m\u001b[0;34m(\u001b[0m\u001b[0mdb_uri\u001b[0m\u001b[0;34m)\u001b[0m\u001b[0;34m(\u001b[0m\u001b[0mquery\u001b[0m\u001b[0;34m,\u001b[0m \u001b[0menv\u001b[0m\u001b[0;34m)\u001b[0m\u001b[0;34m\u001b[0m\u001b[0;34m\u001b[0m\u001b[0m\n\u001b[0m",
            "\u001b[0;32m/usr/local/lib/python3.7/dist-packages/pandasql/sqldf.py\u001b[0m in \u001b[0;36m__call__\u001b[0;34m(self, query, env)\u001b[0m\n\u001b[1;32m     61\u001b[0m                 \u001b[0mresult\u001b[0m \u001b[0;34m=\u001b[0m \u001b[0mread_sql\u001b[0m\u001b[0;34m(\u001b[0m\u001b[0mquery\u001b[0m\u001b[0;34m,\u001b[0m \u001b[0mconn\u001b[0m\u001b[0;34m)\u001b[0m\u001b[0;34m\u001b[0m\u001b[0;34m\u001b[0m\u001b[0m\n\u001b[1;32m     62\u001b[0m             \u001b[0;32mexcept\u001b[0m \u001b[0mDatabaseError\u001b[0m \u001b[0;32mas\u001b[0m \u001b[0mex\u001b[0m\u001b[0;34m:\u001b[0m\u001b[0;34m\u001b[0m\u001b[0;34m\u001b[0m\u001b[0m\n\u001b[0;32m---> 63\u001b[0;31m                 \u001b[0;32mraise\u001b[0m \u001b[0mPandaSQLException\u001b[0m\u001b[0;34m(\u001b[0m\u001b[0mex\u001b[0m\u001b[0;34m)\u001b[0m\u001b[0;34m\u001b[0m\u001b[0;34m\u001b[0m\u001b[0m\n\u001b[0m\u001b[1;32m     64\u001b[0m             \u001b[0;32mexcept\u001b[0m \u001b[0mResourceClosedError\u001b[0m\u001b[0;34m:\u001b[0m\u001b[0;34m\u001b[0m\u001b[0;34m\u001b[0m\u001b[0m\n\u001b[1;32m     65\u001b[0m                 \u001b[0;31m# query returns nothing\u001b[0m\u001b[0;34m\u001b[0m\u001b[0;34m\u001b[0m\u001b[0;34m\u001b[0m\u001b[0m\n",
            "\u001b[0;31mPandaSQLException\u001b[0m: (sqlite3.OperationalError) no such column: item\n[SQL: select item_type as item_type, item as specific_item, sum(money_spent) as Amount_spent\nfrom items \ngroup by specific_item\norder by Amount_spent desc\nlimit 10]\n(Background on this error at: https://sqlalche.me/e/14/e3q8)"
          ]
        }
      ]
    },
    {
      "cell_type": "code",
      "source": [
        "#amount of hours in tasks spend by weeks, growing over time\n",
        "stats.resample('W', on='occur_date').daily_playtime.sum()"
      ],
      "metadata": {
        "id": "dA5YJNU1wopq"
      },
      "execution_count": null,
      "outputs": []
    },
    {
      "cell_type": "code",
      "source": [
        "#activities in which they are spending most of their time\n",
        "\n",
        "print(pysqldf('''select activity_type, sum(time_spent) as time_spend_overall\n",
        "from activity \n",
        "group by activity_type\n",
        "ORDER BY time_spend_overall desc'''))"
      ],
      "metadata": {
        "id": "Zt0Syibfwote"
      },
      "execution_count": null,
      "outputs": []
    },
    {
      "cell_type": "code",
      "source": [
        "#while looking at our dataset, we found an ID that played 5570.873231 in total\n",
        "#which is around 200 days, which is more than the three week spam\n",
        "#thus, we must conclude that some activities are simulatenous, in order for this to be true\n",
        " \n",
        "pysqldf('''select account_id, sum(time_spent) as sum_by_id\n",
        "from activity \n",
        "group by account_id\n",
        "order by sum_by_id desc''')\n",
        "\n",
        "#thus, to find the time each user spend playing on those three months, we need to analyze general player stats"
      ],
      "metadata": {
        "id": "MUCbAFzCwozB"
      },
      "execution_count": null,
      "outputs": []
    },
    {
      "cell_type": "code",
      "source": [
        "data_for_time = pysqldf('''select account_id, sum(daily_playtime) as total_time_playing\n",
        "from stats \n",
        "group by account_id\n",
        "order by total_time_playing desc''')\n",
        "\n",
        "data_for_time.describe()"
      ],
      "metadata": {
        "id": "d9maPgbsv38B"
      },
      "execution_count": null,
      "outputs": []
    },
    {
      "cell_type": "markdown",
      "source": [
        "Jaden's part in data creation and clustering"
      ],
      "metadata": {
        "id": "qYlDC6RysUbH"
      }
    },
    {
      "cell_type": "code",
      "source": [
        "#jaden, dont touch\n",
        "df = pd.read_csv('gen_player_stats.csv')\n",
        "iets = []\n",
        "for x in df['occur_date']:\n",
        "    iets.append(datetime.strptime(x, '%Y-%m-%d'))\n",
        "df['occur_datetime'] = iets\n",
        "\n",
        "m = max(df['occur_datetime'])\n",
        "mi = min(df['occur_datetime'])\n",
        "x = pd.date_range(mi,m,12).to_list()\n",
        "\n",
        "\n",
        "x_clean = []\n",
        "for i in x: \n",
        "    x_clean.append(i.strftime(\"%Y-%m-%d\"))\n",
        "x_clean\n",
        "x = x_clean\n",
        "unique_id = df['account_id'].unique()\n",
        "\n",
        "super_array = []\n",
        "\n",
        "for user in unique_id:\n",
        "    array = np.zeros(11)\n",
        "    #print(user)\n",
        "    per_user_df = df[df['account_id'] == user]\n",
        "    for i in range(0,12):\n",
        "        for z in per_user_df['occur_date']:\n",
        "            if x[i] < z < x[i+1]:\n",
        "                array[i] = 1\n",
        "                #print(f'z: {z} is in range between {x[i]} and {x[i+1]} for i: {i}')\n",
        "    super_array.append(array)\n",
        "sa = np.array(super_array)\n",
        "\n",
        "df_super = pd.DataFrame(sa, columns=['1','2','3','4','5','6','7','8','9','10','11'])\n",
        "\n",
        "v_len = len(super_array[:][:])\n",
        "s = super_array\n",
        "force_array = []\n",
        "for i in range(v_len):\n",
        "    force = 0\n",
        "    mtm = 0\n",
        "    switch = 0\n",
        "    for j in s[i][:]:\n",
        "        if (j == 0) & (switch == 1):\n",
        "          #exponentially punishing players who take a longer break\n",
        "            force += 2**(mtm)\n",
        "            mtm += 1\n",
        "        if j == 1:\n",
        "          #reset the momentum after the player comes back to the game\n",
        "            mtm = 0\n",
        "            switch = 1\n",
        "    force_array.append(force)\n",
        "df_super['force'] = force_array\n",
        "df_super['force'] = [math.log(x,2) if x != 0 else 0 for x in df_super['force']]\n",
        "\n"
      ],
      "metadata": {
        "id": "LrWqg53_wZA9"
      },
      "execution_count": 129,
      "outputs": []
    },
    {
      "cell_type": "code",
      "source": [
        "#rereading items df since it was changed previously\n",
        "df_items = pd.read_csv('item_spend.csv')\n",
        "df_items['occur_date'] = pd.to_datetime(df_items['occur_date'])\n"
      ],
      "metadata": {
        "id": "As9jp1RODOQD"
      },
      "execution_count": 130,
      "outputs": []
    },
    {
      "cell_type": "code",
      "source": [
        "#sql query to get the total money spent by each user\n",
        "pysqldf = lambda q: sqldf(q, globals())\n",
        "\n",
        "\n",
        "total_money_spent = pysqldf('''select account_id, sum(money_spent) as sum_by_id\n",
        "from df_items \n",
        "group by account_id''')"
      ],
      "metadata": {
        "id": "2lCtKIXvEJiz"
      },
      "execution_count": 131,
      "outputs": []
    },
    {
      "cell_type": "code",
      "source": [
        "total_money_spent = total_money_spent.set_index('account_id',drop=True)"
      ],
      "metadata": {
        "id": "j9jCvndIEJqp"
      },
      "execution_count": 132,
      "outputs": []
    },
    {
      "cell_type": "code",
      "source": [
        "activity_grouped_no_normalization = activity_grouped_no_normalization[['activity_type_Biker','activity_type_Casino','activity_type_Executive','activity_type_Freeroam - Business Battles','activity_type_Gunrunner','activity_type_Heist','activity_type_Nightclub Owner','activity_type_Race']]\n"
      ],
      "metadata": {
        "id": "fRyPkHH37M8k"
      },
      "execution_count": 133,
      "outputs": []
    },
    {
      "cell_type": "code",
      "source": [
        "all_index = list(range(0,9527))\n",
        "#not every user has done an activity, so we need to fill missing indexes with 0\n",
        "activity_grouped_no_normalization = activity_grouped_no_normalization.reindex(all_index)\n",
        "activity_grouped_no_normalization = activity_grouped_no_normalization.fillna(0)"
      ],
      "metadata": {
        "id": "Da1-h-Cd69Tm"
      },
      "execution_count": 134,
      "outputs": []
    },
    {
      "cell_type": "code",
      "source": [
        "items_grouped_no_normalization = items_grouped_no_normalization[['item_type_BIKE','item_type_BOAT','item_type_CAR','item_type_CYCLE','item_type_HELICOPTER','item_type_JET','item_type_OTHER','item_type_PLANE','item_type_PROPERTY','item_type_TANK','item_type_TRUCK','item_type_WEAPON']]"
      ],
      "metadata": {
        "id": "ghzhzpBr69_b"
      },
      "execution_count": 135,
      "outputs": []
    },
    {
      "cell_type": "code",
      "source": [
        "#not every user has got an item, so we need to fill missing indexes with 0\n",
        "items_grouped_no_normalization = items_grouped_no_normalization.reindex(all_index)\n",
        "items_grouped_no_normalization = items_grouped_no_normalization.fillna(0)"
      ],
      "metadata": {
        "id": "gWeOAboQ7UT0"
      },
      "execution_count": 136,
      "outputs": []
    },
    {
      "cell_type": "code",
      "source": [
        "#ID's who have spent\n",
        "spent_money = stats[stats['pvc_balance'] != 0]\n",
        "spending_id = spent_money['account_id'].unique()\n",
        "#array containing all ids that have spent money"
      ],
      "metadata": {
        "id": "g6rpz_fr7hs9"
      },
      "execution_count": 137,
      "outputs": []
    },
    {
      "cell_type": "code",
      "source": [
        "#building the final dataframe\n",
        "\n",
        "final_df = time_spent_per_day.copy()\n",
        "final_df['force'] = df_super['force']\n",
        "\n",
        "diversity_activities = activity_grouped['diversity']\n",
        "all_index = list(range(0,9527))\n",
        "#not every user has done an activity, so we need to fill missing indexes with 0\n",
        "diversity_activities = diversity_activities.reindex(all_index)\n",
        "diversity_activities = diversity_activities.fillna(0)\n",
        "final_df['diversity_activities'] = diversity_activities\n",
        "\n",
        "diversity_items = items_grouped\n",
        "diversity_items = diversity_items.reindex(all_index)\n",
        "diversity_items = diversity_items.fillna(0)\n",
        "final_df['diversity_items'] = diversity_items\n",
        "\n",
        "total_money_spent = total_money_spent.reindex(all_index)\n",
        "total_money_spent = total_money_spent.fillna(0)\n",
        "final_df['total_money_spent'] = total_money_spent\n",
        "\n",
        "#normalize money by  day's played to not punish players who started later\n",
        "final_df['daily_money_spent'] = final_df['total_money_spent']/final_df['days_since_start']\n",
        "final_df = final_df.drop(['days_since_start','time_played','total_money_spent'],axis=1)"
      ],
      "metadata": {
        "id": "M-9FhTjPyRYL"
      },
      "execution_count": 138,
      "outputs": []
    },
    {
      "cell_type": "code",
      "source": [
        "final_df"
      ],
      "metadata": {
        "colab": {
          "base_uri": "https://localhost:8080/",
          "height": 455
        },
        "id": "ohRJqixZ2wwp",
        "outputId": "762d8128-9778-4e61-d0ff-1570c3c22ad3"
      },
      "execution_count": 139,
      "outputs": [
        {
          "output_type": "execute_result",
          "data": {
            "text/plain": [
              "            play_time_per_day     force  diversity_activities  \\\n",
              "account_id                                                      \n",
              "0                    0.113503  0.000000                 1.000   \n",
              "1                    0.154117  1.584963                 0.750   \n",
              "2                    0.202231  0.000000                 0.625   \n",
              "3                    0.364728  0.000000                 0.625   \n",
              "4                    0.206744  3.906891                 0.125   \n",
              "...                       ...       ...                   ...   \n",
              "9522                 0.027698  1.000000                 0.250   \n",
              "9523                 0.047204  8.997179                 0.500   \n",
              "9524                 0.073091  3.321928                 0.375   \n",
              "9525                 0.006886  2.321928                 0.125   \n",
              "9526                 0.108164  4.459432                 0.625   \n",
              "\n",
              "            diversity_items  daily_money_spent  \n",
              "account_id                                      \n",
              "0                  0.250000       11747.496444  \n",
              "1                  0.166667        3871.956466  \n",
              "2                  0.250000       20884.941186  \n",
              "3                  0.500000       50482.445717  \n",
              "4                  0.083333        9418.780008  \n",
              "...                     ...                ...  \n",
              "9522               0.250000        8885.430734  \n",
              "9523               0.083333        6134.845734  \n",
              "9524               0.083333       22699.594120  \n",
              "9525               0.083333        6632.415412  \n",
              "9526               0.083333           0.000000  \n",
              "\n",
              "[9527 rows x 5 columns]"
            ],
            "text/html": [
              "\n",
              "  <div id=\"df-5b3832c8-5a7a-4001-9fcf-748a3c51376a\">\n",
              "    <div class=\"colab-df-container\">\n",
              "      <div>\n",
              "<style scoped>\n",
              "    .dataframe tbody tr th:only-of-type {\n",
              "        vertical-align: middle;\n",
              "    }\n",
              "\n",
              "    .dataframe tbody tr th {\n",
              "        vertical-align: top;\n",
              "    }\n",
              "\n",
              "    .dataframe thead th {\n",
              "        text-align: right;\n",
              "    }\n",
              "</style>\n",
              "<table border=\"1\" class=\"dataframe\">\n",
              "  <thead>\n",
              "    <tr style=\"text-align: right;\">\n",
              "      <th></th>\n",
              "      <th>play_time_per_day</th>\n",
              "      <th>force</th>\n",
              "      <th>diversity_activities</th>\n",
              "      <th>diversity_items</th>\n",
              "      <th>daily_money_spent</th>\n",
              "    </tr>\n",
              "    <tr>\n",
              "      <th>account_id</th>\n",
              "      <th></th>\n",
              "      <th></th>\n",
              "      <th></th>\n",
              "      <th></th>\n",
              "      <th></th>\n",
              "    </tr>\n",
              "  </thead>\n",
              "  <tbody>\n",
              "    <tr>\n",
              "      <th>0</th>\n",
              "      <td>0.113503</td>\n",
              "      <td>0.000000</td>\n",
              "      <td>1.000</td>\n",
              "      <td>0.250000</td>\n",
              "      <td>11747.496444</td>\n",
              "    </tr>\n",
              "    <tr>\n",
              "      <th>1</th>\n",
              "      <td>0.154117</td>\n",
              "      <td>1.584963</td>\n",
              "      <td>0.750</td>\n",
              "      <td>0.166667</td>\n",
              "      <td>3871.956466</td>\n",
              "    </tr>\n",
              "    <tr>\n",
              "      <th>2</th>\n",
              "      <td>0.202231</td>\n",
              "      <td>0.000000</td>\n",
              "      <td>0.625</td>\n",
              "      <td>0.250000</td>\n",
              "      <td>20884.941186</td>\n",
              "    </tr>\n",
              "    <tr>\n",
              "      <th>3</th>\n",
              "      <td>0.364728</td>\n",
              "      <td>0.000000</td>\n",
              "      <td>0.625</td>\n",
              "      <td>0.500000</td>\n",
              "      <td>50482.445717</td>\n",
              "    </tr>\n",
              "    <tr>\n",
              "      <th>4</th>\n",
              "      <td>0.206744</td>\n",
              "      <td>3.906891</td>\n",
              "      <td>0.125</td>\n",
              "      <td>0.083333</td>\n",
              "      <td>9418.780008</td>\n",
              "    </tr>\n",
              "    <tr>\n",
              "      <th>...</th>\n",
              "      <td>...</td>\n",
              "      <td>...</td>\n",
              "      <td>...</td>\n",
              "      <td>...</td>\n",
              "      <td>...</td>\n",
              "    </tr>\n",
              "    <tr>\n",
              "      <th>9522</th>\n",
              "      <td>0.027698</td>\n",
              "      <td>1.000000</td>\n",
              "      <td>0.250</td>\n",
              "      <td>0.250000</td>\n",
              "      <td>8885.430734</td>\n",
              "    </tr>\n",
              "    <tr>\n",
              "      <th>9523</th>\n",
              "      <td>0.047204</td>\n",
              "      <td>8.997179</td>\n",
              "      <td>0.500</td>\n",
              "      <td>0.083333</td>\n",
              "      <td>6134.845734</td>\n",
              "    </tr>\n",
              "    <tr>\n",
              "      <th>9524</th>\n",
              "      <td>0.073091</td>\n",
              "      <td>3.321928</td>\n",
              "      <td>0.375</td>\n",
              "      <td>0.083333</td>\n",
              "      <td>22699.594120</td>\n",
              "    </tr>\n",
              "    <tr>\n",
              "      <th>9525</th>\n",
              "      <td>0.006886</td>\n",
              "      <td>2.321928</td>\n",
              "      <td>0.125</td>\n",
              "      <td>0.083333</td>\n",
              "      <td>6632.415412</td>\n",
              "    </tr>\n",
              "    <tr>\n",
              "      <th>9526</th>\n",
              "      <td>0.108164</td>\n",
              "      <td>4.459432</td>\n",
              "      <td>0.625</td>\n",
              "      <td>0.083333</td>\n",
              "      <td>0.000000</td>\n",
              "    </tr>\n",
              "  </tbody>\n",
              "</table>\n",
              "<p>9527 rows × 5 columns</p>\n",
              "</div>\n",
              "      <button class=\"colab-df-convert\" onclick=\"convertToInteractive('df-5b3832c8-5a7a-4001-9fcf-748a3c51376a')\"\n",
              "              title=\"Convert this dataframe to an interactive table.\"\n",
              "              style=\"display:none;\">\n",
              "        \n",
              "  <svg xmlns=\"http://www.w3.org/2000/svg\" height=\"24px\"viewBox=\"0 0 24 24\"\n",
              "       width=\"24px\">\n",
              "    <path d=\"M0 0h24v24H0V0z\" fill=\"none\"/>\n",
              "    <path d=\"M18.56 5.44l.94 2.06.94-2.06 2.06-.94-2.06-.94-.94-2.06-.94 2.06-2.06.94zm-11 1L8.5 8.5l.94-2.06 2.06-.94-2.06-.94L8.5 2.5l-.94 2.06-2.06.94zm10 10l.94 2.06.94-2.06 2.06-.94-2.06-.94-.94-2.06-.94 2.06-2.06.94z\"/><path d=\"M17.41 7.96l-1.37-1.37c-.4-.4-.92-.59-1.43-.59-.52 0-1.04.2-1.43.59L10.3 9.45l-7.72 7.72c-.78.78-.78 2.05 0 2.83L4 21.41c.39.39.9.59 1.41.59.51 0 1.02-.2 1.41-.59l7.78-7.78 2.81-2.81c.8-.78.8-2.07 0-2.86zM5.41 20L4 18.59l7.72-7.72 1.47 1.35L5.41 20z\"/>\n",
              "  </svg>\n",
              "      </button>\n",
              "      \n",
              "  <style>\n",
              "    .colab-df-container {\n",
              "      display:flex;\n",
              "      flex-wrap:wrap;\n",
              "      gap: 12px;\n",
              "    }\n",
              "\n",
              "    .colab-df-convert {\n",
              "      background-color: #E8F0FE;\n",
              "      border: none;\n",
              "      border-radius: 50%;\n",
              "      cursor: pointer;\n",
              "      display: none;\n",
              "      fill: #1967D2;\n",
              "      height: 32px;\n",
              "      padding: 0 0 0 0;\n",
              "      width: 32px;\n",
              "    }\n",
              "\n",
              "    .colab-df-convert:hover {\n",
              "      background-color: #E2EBFA;\n",
              "      box-shadow: 0px 1px 2px rgba(60, 64, 67, 0.3), 0px 1px 3px 1px rgba(60, 64, 67, 0.15);\n",
              "      fill: #174EA6;\n",
              "    }\n",
              "\n",
              "    [theme=dark] .colab-df-convert {\n",
              "      background-color: #3B4455;\n",
              "      fill: #D2E3FC;\n",
              "    }\n",
              "\n",
              "    [theme=dark] .colab-df-convert:hover {\n",
              "      background-color: #434B5C;\n",
              "      box-shadow: 0px 1px 3px 1px rgba(0, 0, 0, 0.15);\n",
              "      filter: drop-shadow(0px 1px 2px rgba(0, 0, 0, 0.3));\n",
              "      fill: #FFFFFF;\n",
              "    }\n",
              "  </style>\n",
              "\n",
              "      <script>\n",
              "        const buttonEl =\n",
              "          document.querySelector('#df-5b3832c8-5a7a-4001-9fcf-748a3c51376a button.colab-df-convert');\n",
              "        buttonEl.style.display =\n",
              "          google.colab.kernel.accessAllowed ? 'block' : 'none';\n",
              "\n",
              "        async function convertToInteractive(key) {\n",
              "          const element = document.querySelector('#df-5b3832c8-5a7a-4001-9fcf-748a3c51376a');\n",
              "          const dataTable =\n",
              "            await google.colab.kernel.invokeFunction('convertToInteractive',\n",
              "                                                     [key], {});\n",
              "          if (!dataTable) return;\n",
              "\n",
              "          const docLinkHtml = 'Like what you see? Visit the ' +\n",
              "            '<a target=\"_blank\" href=https://colab.research.google.com/notebooks/data_table.ipynb>data table notebook</a>'\n",
              "            + ' to learn more about interactive tables.';\n",
              "          element.innerHTML = '';\n",
              "          dataTable['output_type'] = 'display_data';\n",
              "          await google.colab.output.renderOutput(dataTable, element);\n",
              "          const docLink = document.createElement('div');\n",
              "          docLink.innerHTML = docLinkHtml;\n",
              "          element.appendChild(docLink);\n",
              "        }\n",
              "      </script>\n",
              "    </div>\n",
              "  </div>\n",
              "  "
            ]
          },
          "metadata": {},
          "execution_count": 139
        }
      ]
    },
    {
      "cell_type": "code",
      "source": [
        "from sklearn.preprocessing import MinMaxScaler\n",
        "from sklearn.model_selection import train_test_split\n",
        "from sklearn.linear_model import LogisticRegression\n",
        "from sklearn.metrics import roc_auc_score\n",
        "from sklearn.metrics import confusion_matrix\n",
        "\n",
        "df = final_df\n",
        "target = df['play_time_per_day']\n",
        "a = np.percentile(target, 90)\n",
        "count = len(df[df['play_time_per_day'] > a])\n",
        "superUser = [1 if x > a else 0 for x in target]\n",
        "\n",
        "def Scale(df):\n",
        "    scaled_features = MinMaxScaler().fit_transform(df.values)\n",
        "    scaled_features_df = pd.DataFrame(scaled_features, index=df.index, columns=df.columns)\n",
        "    df = scaled_features_df\n",
        "    return df\n",
        "def Split(df,target):\n",
        "    y = df[target]\n",
        "    X = df.drop(columns=target)\n",
        "    X_train, X_test, y_train, y_test = train_test_split(X, y, test_size=0.2, random_state=69)\n",
        "    return X_train, X_test, y_train, y_test\n",
        "\n",
        "df = Scale(df)\n",
        "df['superUser'] = superUser\n",
        "df = df.drop(columns=['play_time_per_day'])\n",
        "t_name = 'superUser'\n",
        "X_train, X_test, y_train, y_test = Split(df,t_name)\n",
        "def log_reg(X_train,y_train,X_test,y_test):\n",
        "    clf = LogisticRegression(class_weight='balanced',random_state=0).fit(X_train, y_train)\n",
        "    beta = clf.coef_\n",
        "    y_pred = clf.predict(X_test)\n",
        "    auc = roc_auc_score(y_test, y_pred)\n",
        "    cm = confusion_matrix(y_pred, y_test)\n",
        "    return auc, beta, cm\n",
        "auc, beta, cm = log_reg(X_train,y_train,X_test,y_test)\n",
        "\n"
      ],
      "metadata": {
        "id": "4gCYfLwXOm_p"
      },
      "execution_count": 144,
      "outputs": []
    },
    {
      "cell_type": "code",
      "source": [
        "\"\"\"\n",
        "JADEN PUT ML SHIT HERE clustering and stuff\n",
        "\"\"\"\n",
        "from sklearn.cluster import KMeans\n",
        "from sklearn.metrics import silhouette_score\n",
        "dfA = final_df\n",
        "dfA['deposit'] = [1 if x in spending_id else 0 for x in final_df.index]\n",
        "X = Scale(dfA).to_numpy()\n",
        "\n",
        "\n",
        "def km_i(X,k):\n",
        "    kmeans = KMeans(n_clusters=k, random_state=0).fit(X)\n",
        "    i = kmeans.inertia_\n",
        "    return i\n",
        "sse = []\n",
        "for k in range(1, 11):\n",
        "    i = km_i(X,k)\n",
        "    sse.append(i)\n",
        "from sklearn.metrics import silhouette_score\n",
        "def km(X,k):\n",
        "    kmeans = KMeans(n_clusters=k, random_state=0).fit(X)\n",
        "    i = kmeans.inertia_\n",
        "    score = silhouette_score(X, kmeans.labels_)\n",
        "    return score\n",
        "sc = []\n",
        "for k in range(2, 11):\n",
        "    i = kmeans = km(X,k)\n",
        "    sc.append(i)\n",
        "\n",
        "kmeans = KMeans(n_clusters=2)\n",
        "y = kmeans.fit_predict(X)\n",
        "dfA['cluster'] = y\n",
        "c1 = dfA[dfA['cluster'] == 1]\n",
        "c2 = dfA[dfA['cluster'] == 0]\n",
        "\n",
        "#c1.describe()\n",
        "#plt.figure(figsize=(15,10))\n",
        "#for i,col in enumerate(c1.columns,1):\n",
        "    #plt.subplot(3,3,i)\n",
        "    #plt.title(f\"Distribution of {col} Data\")\n",
        "    #sns.histplot(c1[col],kde=True)\n",
        "    #plt.tight_layout()\n",
        "    #plt.plot()\n",
        "#c0.describe()\n",
        "#plt.figure(figsize=(15,10))\n",
        "#for i,col in enumerate(c0.columns,1):\n",
        "    #plt.subplot(3,3,i)\n",
        "    #plt.title(f\"Distribution of {col} Data\")\n",
        "    #sns.histplot(c0[col],kde=True)\n",
        "    #plt.tight_layout()\n",
        "    #plt.plot()"
      ],
      "metadata": {
        "id": "lTu5YrbT65YO"
      },
      "execution_count": 102,
      "outputs": []
    },
    {
      "cell_type": "code",
      "source": [
        "final_df"
      ],
      "metadata": {
        "colab": {
          "base_uri": "https://localhost:8080/",
          "height": 455
        },
        "id": "0eKvckYKP1dn",
        "outputId": "71758691-0ed6-432e-aa67-3471745feced"
      },
      "execution_count": 127,
      "outputs": [
        {
          "output_type": "execute_result",
          "data": {
            "text/plain": [
              "            play_time_per_day     force  diversity_activities  \\\n",
              "account_id                                                      \n",
              "0                    0.113503  0.000000                 1.000   \n",
              "1                    0.154117  1.584963                 0.750   \n",
              "2                    0.202231  0.000000                 0.625   \n",
              "3                    0.364728  2.807355                 0.625   \n",
              "4                    0.206744  4.169925                 0.125   \n",
              "...                       ...       ...                   ...   \n",
              "9522                 0.027698  1.000000                 0.250   \n",
              "9523                 0.047204  8.997179                 0.500   \n",
              "9524                 0.073091  3.321928                 0.375   \n",
              "9525                 0.006886  2.321928                 0.125   \n",
              "9526                 0.108164  4.459432                 0.625   \n",
              "\n",
              "            diversity_items  daily_money_spent  \n",
              "account_id                                      \n",
              "0                  0.250000       11747.496444  \n",
              "1                  0.166667        3871.956466  \n",
              "2                  0.250000       20884.941186  \n",
              "3                  0.500000       50482.445717  \n",
              "4                  0.083333        9418.780008  \n",
              "...                     ...                ...  \n",
              "9522               0.250000        8885.430734  \n",
              "9523               0.083333        6134.845734  \n",
              "9524               0.083333       22699.594120  \n",
              "9525               0.083333        6632.415412  \n",
              "9526               0.083333           0.000000  \n",
              "\n",
              "[9527 rows x 5 columns]"
            ],
            "text/html": [
              "\n",
              "  <div id=\"df-6dabe7c5-299a-40b8-890a-fc8f38891ae3\">\n",
              "    <div class=\"colab-df-container\">\n",
              "      <div>\n",
              "<style scoped>\n",
              "    .dataframe tbody tr th:only-of-type {\n",
              "        vertical-align: middle;\n",
              "    }\n",
              "\n",
              "    .dataframe tbody tr th {\n",
              "        vertical-align: top;\n",
              "    }\n",
              "\n",
              "    .dataframe thead th {\n",
              "        text-align: right;\n",
              "    }\n",
              "</style>\n",
              "<table border=\"1\" class=\"dataframe\">\n",
              "  <thead>\n",
              "    <tr style=\"text-align: right;\">\n",
              "      <th></th>\n",
              "      <th>play_time_per_day</th>\n",
              "      <th>force</th>\n",
              "      <th>diversity_activities</th>\n",
              "      <th>diversity_items</th>\n",
              "      <th>daily_money_spent</th>\n",
              "    </tr>\n",
              "    <tr>\n",
              "      <th>account_id</th>\n",
              "      <th></th>\n",
              "      <th></th>\n",
              "      <th></th>\n",
              "      <th></th>\n",
              "      <th></th>\n",
              "    </tr>\n",
              "  </thead>\n",
              "  <tbody>\n",
              "    <tr>\n",
              "      <th>0</th>\n",
              "      <td>0.113503</td>\n",
              "      <td>0.000000</td>\n",
              "      <td>1.000</td>\n",
              "      <td>0.250000</td>\n",
              "      <td>11747.496444</td>\n",
              "    </tr>\n",
              "    <tr>\n",
              "      <th>1</th>\n",
              "      <td>0.154117</td>\n",
              "      <td>1.584963</td>\n",
              "      <td>0.750</td>\n",
              "      <td>0.166667</td>\n",
              "      <td>3871.956466</td>\n",
              "    </tr>\n",
              "    <tr>\n",
              "      <th>2</th>\n",
              "      <td>0.202231</td>\n",
              "      <td>0.000000</td>\n",
              "      <td>0.625</td>\n",
              "      <td>0.250000</td>\n",
              "      <td>20884.941186</td>\n",
              "    </tr>\n",
              "    <tr>\n",
              "      <th>3</th>\n",
              "      <td>0.364728</td>\n",
              "      <td>2.807355</td>\n",
              "      <td>0.625</td>\n",
              "      <td>0.500000</td>\n",
              "      <td>50482.445717</td>\n",
              "    </tr>\n",
              "    <tr>\n",
              "      <th>4</th>\n",
              "      <td>0.206744</td>\n",
              "      <td>4.169925</td>\n",
              "      <td>0.125</td>\n",
              "      <td>0.083333</td>\n",
              "      <td>9418.780008</td>\n",
              "    </tr>\n",
              "    <tr>\n",
              "      <th>...</th>\n",
              "      <td>...</td>\n",
              "      <td>...</td>\n",
              "      <td>...</td>\n",
              "      <td>...</td>\n",
              "      <td>...</td>\n",
              "    </tr>\n",
              "    <tr>\n",
              "      <th>9522</th>\n",
              "      <td>0.027698</td>\n",
              "      <td>1.000000</td>\n",
              "      <td>0.250</td>\n",
              "      <td>0.250000</td>\n",
              "      <td>8885.430734</td>\n",
              "    </tr>\n",
              "    <tr>\n",
              "      <th>9523</th>\n",
              "      <td>0.047204</td>\n",
              "      <td>8.997179</td>\n",
              "      <td>0.500</td>\n",
              "      <td>0.083333</td>\n",
              "      <td>6134.845734</td>\n",
              "    </tr>\n",
              "    <tr>\n",
              "      <th>9524</th>\n",
              "      <td>0.073091</td>\n",
              "      <td>3.321928</td>\n",
              "      <td>0.375</td>\n",
              "      <td>0.083333</td>\n",
              "      <td>22699.594120</td>\n",
              "    </tr>\n",
              "    <tr>\n",
              "      <th>9525</th>\n",
              "      <td>0.006886</td>\n",
              "      <td>2.321928</td>\n",
              "      <td>0.125</td>\n",
              "      <td>0.083333</td>\n",
              "      <td>6632.415412</td>\n",
              "    </tr>\n",
              "    <tr>\n",
              "      <th>9526</th>\n",
              "      <td>0.108164</td>\n",
              "      <td>4.459432</td>\n",
              "      <td>0.625</td>\n",
              "      <td>0.083333</td>\n",
              "      <td>0.000000</td>\n",
              "    </tr>\n",
              "  </tbody>\n",
              "</table>\n",
              "<p>9527 rows × 5 columns</p>\n",
              "</div>\n",
              "      <button class=\"colab-df-convert\" onclick=\"convertToInteractive('df-6dabe7c5-299a-40b8-890a-fc8f38891ae3')\"\n",
              "              title=\"Convert this dataframe to an interactive table.\"\n",
              "              style=\"display:none;\">\n",
              "        \n",
              "  <svg xmlns=\"http://www.w3.org/2000/svg\" height=\"24px\"viewBox=\"0 0 24 24\"\n",
              "       width=\"24px\">\n",
              "    <path d=\"M0 0h24v24H0V0z\" fill=\"none\"/>\n",
              "    <path d=\"M18.56 5.44l.94 2.06.94-2.06 2.06-.94-2.06-.94-.94-2.06-.94 2.06-2.06.94zm-11 1L8.5 8.5l.94-2.06 2.06-.94-2.06-.94L8.5 2.5l-.94 2.06-2.06.94zm10 10l.94 2.06.94-2.06 2.06-.94-2.06-.94-.94-2.06-.94 2.06-2.06.94z\"/><path d=\"M17.41 7.96l-1.37-1.37c-.4-.4-.92-.59-1.43-.59-.52 0-1.04.2-1.43.59L10.3 9.45l-7.72 7.72c-.78.78-.78 2.05 0 2.83L4 21.41c.39.39.9.59 1.41.59.51 0 1.02-.2 1.41-.59l7.78-7.78 2.81-2.81c.8-.78.8-2.07 0-2.86zM5.41 20L4 18.59l7.72-7.72 1.47 1.35L5.41 20z\"/>\n",
              "  </svg>\n",
              "      </button>\n",
              "      \n",
              "  <style>\n",
              "    .colab-df-container {\n",
              "      display:flex;\n",
              "      flex-wrap:wrap;\n",
              "      gap: 12px;\n",
              "    }\n",
              "\n",
              "    .colab-df-convert {\n",
              "      background-color: #E8F0FE;\n",
              "      border: none;\n",
              "      border-radius: 50%;\n",
              "      cursor: pointer;\n",
              "      display: none;\n",
              "      fill: #1967D2;\n",
              "      height: 32px;\n",
              "      padding: 0 0 0 0;\n",
              "      width: 32px;\n",
              "    }\n",
              "\n",
              "    .colab-df-convert:hover {\n",
              "      background-color: #E2EBFA;\n",
              "      box-shadow: 0px 1px 2px rgba(60, 64, 67, 0.3), 0px 1px 3px 1px rgba(60, 64, 67, 0.15);\n",
              "      fill: #174EA6;\n",
              "    }\n",
              "\n",
              "    [theme=dark] .colab-df-convert {\n",
              "      background-color: #3B4455;\n",
              "      fill: #D2E3FC;\n",
              "    }\n",
              "\n",
              "    [theme=dark] .colab-df-convert:hover {\n",
              "      background-color: #434B5C;\n",
              "      box-shadow: 0px 1px 3px 1px rgba(0, 0, 0, 0.15);\n",
              "      filter: drop-shadow(0px 1px 2px rgba(0, 0, 0, 0.3));\n",
              "      fill: #FFFFFF;\n",
              "    }\n",
              "  </style>\n",
              "\n",
              "      <script>\n",
              "        const buttonEl =\n",
              "          document.querySelector('#df-6dabe7c5-299a-40b8-890a-fc8f38891ae3 button.colab-df-convert');\n",
              "        buttonEl.style.display =\n",
              "          google.colab.kernel.accessAllowed ? 'block' : 'none';\n",
              "\n",
              "        async function convertToInteractive(key) {\n",
              "          const element = document.querySelector('#df-6dabe7c5-299a-40b8-890a-fc8f38891ae3');\n",
              "          const dataTable =\n",
              "            await google.colab.kernel.invokeFunction('convertToInteractive',\n",
              "                                                     [key], {});\n",
              "          if (!dataTable) return;\n",
              "\n",
              "          const docLinkHtml = 'Like what you see? Visit the ' +\n",
              "            '<a target=\"_blank\" href=https://colab.research.google.com/notebooks/data_table.ipynb>data table notebook</a>'\n",
              "            + ' to learn more about interactive tables.';\n",
              "          element.innerHTML = '';\n",
              "          dataTable['output_type'] = 'display_data';\n",
              "          await google.colab.output.renderOutput(dataTable, element);\n",
              "          const docLink = document.createElement('div');\n",
              "          docLink.innerHTML = docLinkHtml;\n",
              "          element.appendChild(docLink);\n",
              "        }\n",
              "      </script>\n",
              "    </div>\n",
              "  </div>\n",
              "  "
            ]
          },
          "metadata": {},
          "execution_count": 127
        }
      ]
    }
  ]
}